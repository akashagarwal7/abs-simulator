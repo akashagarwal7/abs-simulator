{
  "cells": [
    {
      "cell_type": "markdown",
      "id": "bc38510c",
      "metadata": {
        "id": "bc38510c"
      },
      "source": [
        "## Generating profile using rule - “People between the age 10 and 35 who have Asthma”."
      ]
    },
    {
      "cell_type": "code",
      "execution_count": 1,
      "id": "c6d491ef",
      "metadata": {
        "id": "c6d491ef"
      },
      "outputs": [],
      "source": [
        "profile = {'profile1' : \"People between the ages 10-35 who have Asthma\"}"
      ]
    },
    {
      "cell_type": "markdown",
      "id": "b614994d",
      "metadata": {
        "id": "b614994d"
      },
      "source": [
        "### Building generation_rule_set function."
      ]
    },
    {
      "cell_type": "code",
      "execution_count": 2,
      "id": "2c5b8adc",
      "metadata": {
        "id": "2c5b8adc"
      },
      "outputs": [],
      "source": [
        "import pandas as pd\n",
        "import numpy as np\n",
        "from itertools import cycle\n",
        "\n",
        "\n",
        "# Setting intervals to controls the fake values for each datatype. The intervals will be used to control the values for each data type.\n",
        "# Float type data will be generated within range 0 and 100 if any is used in profile generation. If any date field is required, that will be created between \"2022-01-01\" & \"2022-12-31\".\n",
        "    \n",
        "# i : integer , f : float, c : categorical and d : date type data.\n",
        "# Age is an integer value and the range is specified with lower value = 10 and upper value = 60 which is mentioned in the profile. \n",
        "default_intervals = {\"i\" : (10, 60), \"f\" : (0, 100), \"c\" : (\"names\", 15), \"d\" : (\"2022-01-01\", \"2022-12-31\")}\n",
        "\n",
        "def generation_rule_set(profile_name, size, cols, col_names = None, intervals = None, seed = None):\n",
        "    \n",
        "    \"\"\"\n",
        "    The function is creating the rules for generating fake profiles.\n",
        "    \n",
        "    Parameters\n",
        "    ------------\n",
        "    # Creating a dictionary and initializing it with the desired rules for generating disease, \n",
        "    names, cities & age rules which will be used for profiles.\n",
        "    \n",
        "    profile_name : string\n",
        "        The name of the profile to be generated as per the specific rule.\n",
        "        \n",
        "    size : integer\n",
        "        The number of profiles to be generated.\n",
        "        \n",
        "    cols : string \n",
        "        Value passed \"ciccd\" which is the data types of the columns mentioned in order.\n",
        "        c : category - used for names, diseases, cities.\n",
        "        i : integer - used for age.\n",
        "        d : date - used for date of last tested.\n",
        "        \n",
        "    \n",
        "    col_names = list\n",
        "        default is set to None. The list of column names will be stored here.\n",
        "        \n",
        "    intervals\n",
        "        default is set to None. Setting intervals to controls the fake values for each datatype.\n",
        "        The intervals will be used to control the values for each data type.\n",
        "        \n",
        "    seed = integer\n",
        "        default is set to None. Used for random number generation.\n",
        "    \n",
        "    \"\"\"\n",
        "\n",
        "    categories_dict = {'disease': ['liver_issue', 'dementia', 'cancer', 'heart_disease', 'asthma', 'diabetes', 'mental_health', 'lung_cancer','cold'],\n",
        "                       'names'  : ['james', 'mary', 'robert', 'patricia', 'john', 'jennifer', 'michael', 'linda', 'william', 'elizabeth', 'ahmed', 'barbara', 'richard', 'susan', 'salomon', 'juan'],\n",
        "                       'cities' : ['new_south_wales', 'victoria', 'queensland', 'south_australia', 'western_australia', 'tasmania', 'northern_territory', 'capital_territory'], \n",
        "                       'age' : [35, 11, 23, 32, 10, 15, 18, 29, 25, 28 ,16, 14, 14 ,23 ,32]\n",
        "                      }\n",
        "    \n",
        "    # Random values are created for integer type feature.\n",
        "    rng = np.random.default_rng(seed)\n",
        "\n",
        "    # First category is created.\n",
        "    first_c = default_intervals[\"c\"][0]\n",
        "\n",
        "    # Categorical variables will be repeated after 15 intervals.\n",
        "    categories_names = cycle([first_c] + [c for c in categories_dict.keys() if c != first_c])\n",
        "    default_intervals[\"c\"] = (categories_names, default_intervals[\"c\"][1])\n",
        "\n",
        "    # Check the length of profile template and  print error if new instance of profile exceeds the length. If the new instance does not\n",
        "    # have the column name, below 'else' block will create the default column name with respective data type suffix with the numeric position\n",
        "    # derived from enumerate function.\n",
        "    if isinstance(col_names, list):\n",
        "        assert len(col_names) == len(cols), f\"The fake data_frame should have {len(cols)} columns but col_names is a list with {len(col_names)} elements.\"\n",
        "\n",
        "    elif col_names is None:\n",
        "        suffix = {\"c\" : \"cat\", \"i\" : \"int\", \"f\" : \"float\", \"d\" : \"date\"}\n",
        "        col_names = [f\"column_{str(i)}_{suffix.get(col)}\" for i, col in enumerate(cols)]\n",
        "\n",
        "    # Checking the interval length and key values. If specific intervals are defined during profile creation use that\n",
        "    # otherwise use the default interval.\n",
        "    if isinstance(intervals, list):\n",
        "        assert len(intervals) == len(cols), f\"The fake data_frame should have {len(cols)} columns but intervals is a list with {len(intervals)} elements.\"\n",
        "\n",
        "    else:\n",
        "        if isinstance(intervals, dict):\n",
        "            assert len(set(intervals.keys()) - set(default_intervals.keys())) == 0, f\"The intervals parameter has invalid keys\"\n",
        "            default_intervals.update(intervals)\n",
        "        \n",
        "        intervals = [default_intervals[col] for col in cols]      \n",
        "    df = pd.DataFrame()\n",
        "    \n",
        "    # Building the fake profile dataframe and return to main function.\n",
        "    for col, col_name, interval in zip(cols, col_names, intervals):\n",
        "        \n",
        "        if interval is None:\n",
        "            interval = default_intervals[col]\n",
        "        assert (len(interval) == 2 and isinstance(interval, tuple)) or isinstance(interval, list), f\"This interval {interval} is neither a tuple of two elements nor a list of strings.\"\n",
        "        \n",
        "        if col in (\"i\", \"f\", \"d\"):\n",
        "            start, end = interval\n",
        "        \n",
        "        if col == \"i\":\n",
        "            df[col_name] = rng.integers(start, end, size)\n",
        "        \n",
        "        elif col == \"f\":\n",
        "            df[col_name] = rng.uniform(start, end, size)\n",
        "        \n",
        "        elif col == \"c\":\n",
        "            \n",
        "            if isinstance(interval, list):\n",
        "                categories = np.array(interval)\n",
        "            else:\n",
        "                cat_family, length = interval\n",
        "                \n",
        "                if isinstance(cat_family, cycle):\n",
        "                    cat_family = next(cat_family)\n",
        "\n",
        "                assert cat_family in categories_dict.keys(), f\"There are no samples for category '{cat_family}'. Consider passing a list of samples or use one of the available categories: {categories_dict.keys()}\"\n",
        "                categories = rng.choice(categories_dict[cat_family], length, replace = True, shuffle = True)\n",
        "            \n",
        "            df[col_name] = rng.choice(categories, size, shuffle = True)    \n",
        "        elif col == \"d\":\n",
        "            df[col_name] = rng.choice(pd.date_range(start, end), size)\n",
        "    \n",
        "    return df\n"
      ]
    },
    {
      "cell_type": "markdown",
      "id": "994fcfe0",
      "metadata": {
        "id": "994fcfe0"
      },
      "source": [
        "### Building Specific Profile."
      ]
    },
    {
      "cell_type": "code",
      "execution_count": 3,
      "id": "f9031bb9",
      "metadata": {
        "colab": {
          "base_uri": "https://localhost:8080/"
        },
        "id": "f9031bb9",
        "outputId": "92a9de7a-d947-41e8-a14d-f3e22bc88567"
      },
      "outputs": [
        {
          "output_type": "stream",
          "name": "stdout",
          "text": [
            "***************** Here, is the generic profile data. *****************\n",
            "\n",
            "           name  age        disease                city last_tested\n",
            "0          juan   57         cancer          queensland  2022-11-17\n",
            "1         ahmed   14  mental_health          queensland  2022-06-11\n",
            "2          john   10    liver_issue  northern_territory  2022-08-21\n",
            "3         linda   31    liver_issue          queensland  2022-09-02\n",
            "4          john   40           cold          queensland  2022-04-30\n",
            "...         ...  ...            ...                 ...         ...\n",
            "49995     ahmed   32         cancer     new_south_wales  2022-04-18\n",
            "49996  jennifer   41  mental_health     south_australia  2022-03-18\n",
            "49997      john   52  mental_health          queensland  2022-07-27\n",
            "49998   barbara   14  mental_health            victoria  2022-12-17\n",
            "49999     ahmed   28         cancer   western_australia  2022-11-28\n",
            "\n",
            "[50000 rows x 5 columns]\n",
            "\n",
            "------------ Statistical Distribution of Generic Profile. ------------\n",
            "\n",
            "                age\n",
            "count  50000.000000\n",
            "mean      34.518300\n",
            "std       14.451147\n",
            "min       10.000000\n",
            "25%       22.000000\n",
            "50%       35.000000\n",
            "75%       47.000000\n",
            "max       59.000000\n"
          ]
        }
      ],
      "source": [
        "# For testing, profile1 is set to run without manual input.\n",
        "profile_name = 'profile1'\n",
        "\n",
        "# The column/feature orders are passed as parameter when we call the function generation_rule_set(profile_name, size = 50000, cols = \"ciccd\").\n",
        "df_profile = generation_rule_set(profile_name, size = 50000, cols = \"ciccd\")\n",
        "\n",
        "print(\"***************** Here, is the generic profile data. *****************\" + \"\\n\")\n",
        "\n",
        "if profile[profile_name] == 'People between the ages 10-35 who have Asthma':\n",
        "    df_profile.rename(columns = {'column_0_cat':'name', 'column_1_int':'age', 'column_2_cat':'disease', 'column_3_cat':'city', 'column_4_date':'last_tested'}, inplace = True)\n",
        "    print(df_profile)\n",
        "    print()\n",
        "    print(\"------------ Statistical Distribution of Generic Profile. ------------\")\n",
        "    print()\n",
        "    print(df_profile.describe())\n",
        "else:\n",
        "    print('Profile did not match.')"
      ]
    },
    {
      "cell_type": "markdown",
      "id": "10f0d234",
      "metadata": {
        "id": "10f0d234"
      },
      "source": [
        "### Checking asthma patients."
      ]
    },
    {
      "cell_type": "code",
      "execution_count": 4,
      "id": "183b3934",
      "metadata": {
        "colab": {
          "base_uri": "https://localhost:8080/"
        },
        "id": "183b3934",
        "outputId": "2a656ada-5600-489b-839c-3f1b7e431b6e"
      },
      "outputs": [
        {
          "output_type": "stream",
          "name": "stdout",
          "text": [
            "To build data for People between the ages 10-35 who have Asthma : Checking the count of various patient groups.\n",
            "\n"
          ]
        },
        {
          "output_type": "execute_result",
          "data": {
            "text/plain": [
              "cancer           13366\n",
              "mental_health    10016\n",
              "cold              6682\n",
              "lung_cancer       6612\n",
              "liver_issue       3400\n",
              "asthma            3383\n",
              "dementia          3274\n",
              "diabetes          3267\n",
              "Name: disease, dtype: int64"
            ]
          },
          "metadata": {},
          "execution_count": 4
        }
      ],
      "source": [
        "print(\"To build data for\", profile[profile_name], \": Checking the count of various patient groups\" + \".\\n\")\n",
        "df_profile['disease'].value_counts()"
      ]
    },
    {
      "cell_type": "markdown",
      "id": "5e5aa4b1",
      "metadata": {
        "id": "5e5aa4b1"
      },
      "source": [
        "### People between the ages 10-35 who have Asthma."
      ]
    },
    {
      "cell_type": "code",
      "execution_count": 5,
      "id": "d7632bb7",
      "metadata": {
        "colab": {
          "base_uri": "https://localhost:8080/"
        },
        "id": "d7632bb7",
        "outputId": "83b47edc-7fe5-4a10-e5d5-a242274f3603"
      },
      "outputs": [
        {
          "output_type": "stream",
          "name": "stdout",
          "text": [
            "People between the ages 10-35 who have Asthma: (1763, 5)\n",
            "\n",
            "           name  age disease                city last_tested\n",
            "15        linda   18  asthma     south_australia  2022-07-13\n",
            "24         john   30  asthma  northern_territory  2022-02-22\n",
            "34     jennifer   35  asthma            tasmania  2022-11-29\n",
            "67     patricia   29  asthma          queensland  2022-12-17\n",
            "70      william   18  asthma          queensland  2022-01-29\n",
            "...         ...  ...     ...                 ...         ...\n",
            "49844      john   33  asthma            victoria  2022-09-13\n",
            "49881   william   18  asthma   western_australia  2022-10-30\n",
            "49901      john   34  asthma          queensland  2022-06-18\n",
            "49923     ahmed   27  asthma          queensland  2022-03-21\n",
            "49934  jennifer   12  asthma          queensland  2022-01-26\n",
            "\n",
            "[1763 rows x 5 columns]\n"
          ]
        }
      ],
      "source": [
        "# Asthma dataframe between age 10 to 35.\n",
        "df_asthma_profile = df_profile[(df_profile['age'] >= 10) & (df_profile['age'] <= 35) & (df_profile['disease'] == 'asthma')]\n",
        "print(\"People between the ages 10-35 who have Asthma:\", df_asthma_profile.shape)\n",
        "print()\n",
        "print(df_asthma_profile)"
      ]
    },
    {
      "cell_type": "markdown",
      "id": "abbf41a2",
      "metadata": {
        "id": "abbf41a2"
      },
      "source": [
        "### Plot the distribution of values in the age column using a histogram - Random distribution."
      ]
    },
    {
      "cell_type": "code",
      "execution_count": 6,
      "id": "ebc3ca72",
      "metadata": {
        "colab": {
          "base_uri": "https://localhost:8080/",
          "height": 334
        },
        "id": "ebc3ca72",
        "outputId": "2c55bda1-9d43-4064-c51e-0af2f6132520"
      },
      "outputs": [
        {
          "output_type": "stream",
          "name": "stdout",
          "text": [
            "\n",
            "Distribution of values in age of asthma patients.\n",
            "\n"
          ]
        },
        {
          "output_type": "execute_result",
          "data": {
            "text/plain": [
              "<matplotlib.axes._subplots.AxesSubplot at 0x7f98f095f8b0>"
            ]
          },
          "metadata": {},
          "execution_count": 6
        },
        {
          "output_type": "display_data",
          "data": {
            "text/plain": [
              "<Figure size 432x288 with 1 Axes>"
            ],
            "image/png": "[encoded data removed]"
          },
          "metadata": {
            "needs_background": "light"
          }
        }
      ],
      "source": [
        "# Plot distribution of values in points column using histogram.\n",
        "print(\"\\n\" + \"Distribution of values in age of asthma patients\" + \".\\n\")\n",
        "df_asthma_profile['age'].plot(kind = 'hist', edgecolor = 'black')"
      ]
    },
    {
      "cell_type": "markdown",
      "id": "66519d75",
      "metadata": {
        "id": "66519d75"
      },
      "source": [
        "### Building Triangular distribution."
      ]
    },
    {
      "cell_type": "code",
      "execution_count": 7,
      "id": "048c855f",
      "metadata": {
        "colab": {
          "base_uri": "https://localhost:8080/"
        },
        "id": "048c855f",
        "outputId": "4e9272ed-bb72-4b94-8d67-a000ed695338"
      },
      "outputs": [
        {
          "output_type": "stream",
          "name": "stdout",
          "text": [
            "People who have Asthma: (3383, 5)\n",
            "\n",
            "          name  age disease                city last_tested\n",
            "0        linda   18  asthma     south_australia  2022-07-13\n",
            "1         juan   46  asthma          queensland  2022-06-04\n",
            "2         john   30  asthma  northern_territory  2022-02-22\n",
            "3     jennifer   35  asthma            tasmania  2022-11-29\n",
            "4        ahmed   36  asthma  northern_territory  2022-10-02\n",
            "...        ...  ...     ...                 ...         ...\n",
            "3378      john   34  asthma          queensland  2022-06-18\n",
            "3379      john   38  asthma          queensland  2022-09-18\n",
            "3380     ahmed   27  asthma          queensland  2022-03-21\n",
            "3381  jennifer   12  asthma          queensland  2022-01-26\n",
            "3382     ahmed   37  asthma     south_australia  2022-05-24\n",
            "\n",
            "[3383 rows x 5 columns]\n"
          ]
        }
      ],
      "source": [
        "# Generating asthma dataframe from the profile dataframe.\n",
        "df_asthma = df_profile[(df_profile['disease'] == 'asthma')]\n",
        "print(\"People who have Asthma:\", df_asthma.shape)\n",
        "print()\n",
        "\n",
        "df_asthma.reset_index(drop = True, inplace = True)\n",
        "print(df_asthma)"
      ]
    },
    {
      "cell_type": "markdown",
      "source": [
        "### Applying formula of Triangular Distribution, to make it a triangle, a high count of Asthma patients at a higher age is required."
      ],
      "metadata": {
        "id": "W1i_S2ZMEXjO"
      },
      "id": "W1i_S2ZMEXjO"
    },
    {
      "cell_type": "code",
      "execution_count": 8,
      "id": "7ad3c140",
      "metadata": {
        "colab": {
          "base_uri": "https://localhost:8080/",
          "height": 352
        },
        "id": "7ad3c140",
        "outputId": "da495a44-c429-4a4f-d018-1e13ea400679"
      },
      "outputs": [
        {
          "output_type": "stream",
          "name": "stdout",
          "text": [
            "People who have Asthma: 3383\n",
            "\n",
            "Min Age have Asthma: 10\n",
            "Max age have Asthma: 59\n",
            "\n"
          ]
        },
        {
          "output_type": "display_data",
          "data": {
            "text/plain": [
              "<Figure size 432x288 with 1 Axes>"
            ],
            "image/png": "[encoded data removed]"
          },
          "metadata": {
            "needs_background": "light"
          }
        }
      ],
      "source": [
        "print(\"People who have Asthma:\", df_asthma.shape[0])\n",
        "print()\n",
        "print(\"Min Age have Asthma:\", df_asthma['age'].min())\n",
        "print(\"Max age have Asthma:\", df_asthma['age'].max())\n",
        "print()\n",
        "\n",
        "# Here, is the distribution rule for Triangular distribution applied on Age column which was random in earlier part.\n",
        "tri_distribution = np.random.triangular(df_asthma['age'].min(), df_asthma['age'].max(), df_asthma['age'].max(), df_asthma.shape[0])\n",
        "tri_distribution = tri_distribution.astype(int)\n",
        "\n",
        "import matplotlib.pyplot as plt\n",
        "plt.hist(tri_distribution, bins = 10, density = True, edgecolor = 'black')\n",
        "plt.show()"
      ]
    },
    {
      "cell_type": "markdown",
      "id": "ac96eaa4",
      "metadata": {
        "id": "ac96eaa4"
      },
      "source": [
        "Now we see Min Age have Asthma: 10 and Max age have Asthma: 59, with this the distribution is triangular."
      ]
    }
  ],
  "metadata": {
    "colab": {
      "provenance": [],
      "toc_visible": true
    },
    "kernelspec": {
      "display_name": "Python 3 (ipykernel)",
      "language": "python",
      "name": "python3"
    },
    "language_info": {
      "codemirror_mode": {
        "name": "ipython",
        "version": 3
      },
      "file_extension": ".py",
      "mimetype": "text/x-python",
      "name": "python",
      "nbconvert_exporter": "python",
      "pygments_lexer": "ipython3",
      "version": "3.9.12"
    }
  },
  "nbformat": 4,
  "nbformat_minor": 5
}