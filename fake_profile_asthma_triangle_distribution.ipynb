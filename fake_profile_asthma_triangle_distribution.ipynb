{
  "cells": [
    {
      "cell_type": "markdown",
      "id": "bc38510c",
      "metadata": {
        "id": "bc38510c"
      },
      "source": [
        "## Generating fake profiles using rule - “People between the ages 10-35 who have Asthma”"
      ]
    },
    {
      "cell_type": "code",
      "execution_count": 1,
      "id": "c6d491ef",
      "metadata": {
        "id": "c6d491ef"
      },
      "outputs": [],
      "source": [
        "# Define profile\n",
        "profile = {'profile1' : \"People between the ages 10-35 who have Asthma\"}"
      ]
    },
    {
      "cell_type": "markdown",
      "id": "b614994d",
      "metadata": {
        "id": "b614994d"
      },
      "source": [
        "### Building GenerationRuleSet function"
      ]
    },
    {
      "cell_type": "code",
      "execution_count": 2,
      "id": "2c5b8adc",
      "metadata": {
        "id": "2c5b8adc"
      },
      "outputs": [],
      "source": [
        "# import python libraries\n",
        "\n",
        "import pandas as pd\n",
        "import numpy as np\n",
        "from itertools import cycle\n",
        "\n",
        "# defining the GenerationRuleSet function and its attributes, including the rules for generating the fake profiles.\n",
        "# my profile - used for building the specific profile rule \n",
        "# cols - different column/feature order of data types\n",
        "# cols_names - name of the column\n",
        "# intervals - used for controlling fake values of profiles of each datatypes\n",
        "# seed - save the state to generate random int type feature\n",
        "def GenerationRuleSet(my_profile,size, cols, col_names = None, intervals = None, seed = None):\n",
        "\n",
        "    # The function is creating the rules for generating fake profiles .\n",
        "    # Creating a dictionary and initializing it with the desired rules for generating disease, names, cities & age rules which will be used for profiles\n",
        "    categories_dict = {'disease': ['ckd', 'liverissue', 'Dementia', 'cancer', 'Heartdisease', 'asthma', 'asthma', 'asthma', 'Diabetes', 'mentalhealth', 'lungcancer', 'asthma', 'asthma', 'asthma', 'cold'],\n",
        "                       'names'  : ['James', 'Mary', 'Robert', 'Patricia', 'John', 'Jennifer', 'Michael', 'Linda', 'William', 'Elizabeth', 'Ahmed', 'Barbara', 'Richard', 'Susan', 'Salomon', 'Juan Luis'],\n",
        "                       'cities' : ['NewSouthWales', 'Victoria', 'Queensland', 'SouthAustralia', 'WesternAustralia', 'Tasmania', 'NorthernTerritory', 'CapitalTerritory', 'Adelaide', 'Melbourne', 'Sydney', 'Brisbane', 'Darwin', 'Canberra', 'Canberra'],\n",
        "                       'age' : [35, 11, 23, 32, 10, 15, 18, 29, 25, 28 ,16, 14, 14 ,23 ,32]\n",
        "                      }\n",
        "    \n",
        "    # Setting intervals to controls the fake values for each datatype.\n",
        "    # The intervals will be used to control the values for each data type.\n",
        "    \n",
        "    # Float type data will be generated within the range 0 and 100 if any is used in profile generation.\n",
        "    # If there is any date field required that will be created between \"2020-01-01\" & \"2020-12-31\"\n",
        "    \n",
        "    # i : integer , f : float, c : categorical and d : date type data.\n",
        "    # Age is an integer value and the range is specified with lower value = 10 and upper value = 60 which is mentioned in the profile.    \n",
        "    default_intervals = {\"i\" : (10,60), \"f\" : (0,100), \"c\" : (\"names\", 15), \"d\" : (\"2022-01-01\",\"2022-12-31\")}\n",
        "    \n",
        "    # random values are created for interger type feature\n",
        "    rng = np.random.default_rng(seed)\n",
        "\n",
        "    # First category is created \n",
        "    first_c = default_intervals[\"c\"][0]\n",
        "       \n",
        "    # Categorical variables will be repeated after 15 intervals.\n",
        "    categories_names = cycle([first_c] + [c for c in categories_dict.keys() if c != first_c])\n",
        "    default_intervals[\"c\"] = (categories_names, default_intervals[\"c\"][1])\n",
        "    \n",
        "    # check the length of profile template and  print error if new instance of profile exceeds the length. If the new instance does not\n",
        "    # have the column name, below 'else' block will create the default column name with respective data type suffix with the numeric position\n",
        "    # derived from enumerate function\n",
        "    if isinstance(col_names,list):\n",
        "        assert len(col_names) == len(cols), f\"The fake DataFrame should have {len(cols)} columns but col_names is a list with {len(col_names)} elements\"\n",
        "    elif col_names is None:\n",
        "        suffix = {\"c\" : \"cat\", \"i\" : \"int\", \"f\" : \"float\", \"d\" : \"date\"}\n",
        "        col_names = [f\"column_{str(i)}_{suffix.get(col)}\" for i, col in enumerate(cols)]\n",
        "\n",
        "        \n",
        "    # Checking the interval length and key values. If specific intervals are defined during profile creation use that\n",
        "    # otherwise use the default interval\n",
        "    if isinstance(intervals,list):\n",
        "        assert len(intervals) == len(cols), f\"The fake DataFrame should have {len(cols)} columns but intervals is a list with {len(intervals)} elements\"\n",
        "    else:\n",
        "        if isinstance(intervals,dict):\n",
        "            assert len(set(intervals.keys()) - set(default_intervals.keys())) == 0, f\"The intervals parameter has invalid keys\"\n",
        "            default_intervals.update(intervals)\n",
        "        intervals = [default_intervals[col] for col in cols]\n",
        "        \n",
        "    # new instance of dataframe is defined\n",
        "    df = pd.DataFrame()\n",
        "    \n",
        "    # Building the fake profile dataframe and return to main function\n",
        "    # all the derived values are used to create the new dataframe with created profiles\n",
        "    # the column/feature orders are passed as parameter when we call the function GenerationRuleSet(my_profile, size = 50000, cols =  \"ciccd\")\n",
        "    # Size = number of records to be created in this profiles\n",
        "    # my_profile is the profile rule\n",
        "    # cols is the order of data types\n",
        "    \n",
        "    for col, col_name, interval in zip(cols, col_names, intervals):\n",
        "        if interval is None:\n",
        "            interval = default_intervals[col]\n",
        "        assert (len(interval) == 2 and isinstance(interval, tuple)) or isinstance(interval, list), f\"This interval {interval} is neither a tuple of two elements nor a list of strings.\"\n",
        "        if col in (\"i\",\"f\",\"d\"):\n",
        "            start, end = interval\n",
        "        if col == \"i\":\n",
        "            df[col_name] = rng.integers(start, end, size)\n",
        "        elif col == \"f\":\n",
        "            df[col_name] = rng.uniform(start, end, size)\n",
        "        elif col == \"c\":\n",
        "            if isinstance(interval, list):\n",
        "                categories = np.array(interval)\n",
        "            else:\n",
        "                cat_family, length = interval\n",
        "                if isinstance(cat_family, cycle):\n",
        "                    cat_family = next(cat_family)\n",
        "                assert cat_family in categories_dict.keys(), f\"There are no samples for category '{cat_family}'. Consider passing a list of samples or use one of the available categories: {categories_dict.keys()}\"\n",
        "                categories = rng.choice(categories_dict[cat_family], length, replace = False, shuffle = True)\n",
        "            df[col_name] = rng.choice(categories, size, shuffle = True)\n",
        "        elif col == \"d\":\n",
        "            df[col_name] = rng.choice(pd.date_range(start, end), size)\n",
        "    return df\n"
      ]
    },
    {
      "cell_type": "markdown",
      "id": "994fcfe0",
      "metadata": {
        "id": "994fcfe0"
      },
      "source": [
        "## The code starts here - main function to build the specific profile"
      ]
    },
    {
      "cell_type": "code",
      "execution_count": 3,
      "id": "f9031bb9",
      "metadata": {
        "colab": {
          "base_uri": "https://localhost:8080/"
        },
        "id": "f9031bb9",
        "outputId": "c657a824-168e-4ec6-d0c8-e574e61d5395"
      },
      "outputs": [
        {
          "output_type": "stream",
          "name": "stdout",
          "text": [
            "***************** Here is the generic profile data *****************\n",
            "\n",
            "          name  age       disease              city last_tested\n",
            "0      Richard   59        asthma            Darwin  2022-05-21\n",
            "1         Mary   56    lungcancer          Victoria  2022-03-29\n",
            "2      Michael   35  mentalhealth  CapitalTerritory  2022-10-14\n",
            "3        Ahmed   30        asthma          Canberra  2022-04-03\n",
            "4        Linda   18      Dementia          Canberra  2022-05-13\n",
            "...        ...  ...           ...               ...         ...\n",
            "49995  Michael   32    liverissue    SouthAustralia  2022-09-21\n",
            "49996  Michael   10        asthma  WesternAustralia  2022-08-09\n",
            "49997  Barbara   40    liverissue          Canberra  2022-10-25\n",
            "49998  William   31      Dementia          Brisbane  2022-07-23\n",
            "49999     John   31          cold          Brisbane  2022-11-25\n",
            "\n",
            "[50000 rows x 5 columns]\n",
            "\n",
            "------------ Statistical Distribution of Generic Profile ------------\n",
            "\n",
            "               age\n",
            "count  50000.00000\n",
            "mean      34.45818\n",
            "std       14.40210\n",
            "min       10.00000\n",
            "25%       22.00000\n",
            "50%       34.00000\n",
            "75%       47.00000\n",
            "max       59.00000\n"
          ]
        }
      ],
      "source": [
        "\n",
        "## For testing, profile1 is set to run without manual input\n",
        "my_profile = 'profile1'\n",
        "\n",
        "# the column/feature orders are passed as parameter when we call the function GenerationRuleSet(my_profile, size = 50000, cols =  \"ciccd\")\n",
        "# Size = number of records to be created in this profiles\n",
        "# my_profile is the profile rule.\n",
        "# cols is the order of data types.\n",
        "\n",
        "df_profile = GenerationRuleSet(my_profile, size = 50000, cols =  \"ciccd\")\n",
        "\n",
        "print(\"***************** Here is the generic profile data *****************\" + \"\\n\")\n",
        "\n",
        "if profile[my_profile] == 'People between the ages 10-35 who have Asthma':\n",
        "    df_profile.rename(columns ={'column_0_cat':'name', 'column_1_int':'age','column_2_cat':'disease','column_3_cat':'city','column_4_date':'last_tested'}, inplace = True)\n",
        "    print(df_profile)\n",
        "    print()\n",
        "    print(\"------------ Statistical Distribution of Generic Profile ------------\")\n",
        "    print()\n",
        "    print(df_profile.describe())\n",
        "else:\n",
        "    print('profile did not match')"
      ]
    },
    {
      "cell_type": "markdown",
      "id": "10f0d234",
      "metadata": {
        "id": "10f0d234"
      },
      "source": [
        "#### Checking asthma patients"
      ]
    },
    {
      "cell_type": "code",
      "execution_count": 4,
      "id": "183b3934",
      "metadata": {
        "colab": {
          "base_uri": "https://localhost:8080/"
        },
        "id": "183b3934",
        "outputId": "171a183c-f804-4135-d7f0-3b88d7a6f199"
      },
      "outputs": [
        {
          "output_type": "stream",
          "name": "stdout",
          "text": [
            "To build data for  People between the ages 10-35 who have Asthma  : checking the count of various patient groups.\n",
            "\n"
          ]
        },
        {
          "output_type": "execute_result",
          "data": {
            "text/plain": [
              "asthma          19883\n",
              "Dementia         3403\n",
              "ckd              3397\n",
              "Heartdisease     3389\n",
              "mentalhealth     3381\n",
              "lungcancer       3377\n",
              "cold             3365\n",
              "cancer           3327\n",
              "Diabetes         3244\n",
              "liverissue       3234\n",
              "Name: disease, dtype: int64"
            ]
          },
          "metadata": {},
          "execution_count": 4
        }
      ],
      "source": [
        "print(\"To build data for \", profile[my_profile], \" : checking the count of various patient groups\" + \".\\n\")\n",
        "df_profile['disease'].value_counts()"
      ]
    },
    {
      "cell_type": "markdown",
      "id": "5e5aa4b1",
      "metadata": {
        "id": "5e5aa4b1"
      },
      "source": [
        "### People between the ages 10-35 who have Asthma"
      ]
    },
    {
      "cell_type": "code",
      "execution_count": 5,
      "id": "d7632bb7",
      "metadata": {
        "colab": {
          "base_uri": "https://localhost:8080/"
        },
        "id": "d7632bb7",
        "outputId": "df52990a-bb0c-4f66-900f-f2ad15134106"
      },
      "outputs": [
        {
          "output_type": "stream",
          "name": "stdout",
          "text": [
            "People between the ages 10-35 who have Asthma: (10421, 5)\n",
            "\n",
            "            name  age disease              city last_tested\n",
            "3          Ahmed   30  asthma          Canberra  2022-04-03\n",
            "7           John   29  asthma  WesternAustralia  2022-02-20\n",
            "11         Susan   31  asthma          Victoria  2022-02-22\n",
            "16       William   30  asthma          Adelaide  2022-07-30\n",
            "19      Jennifer   22  asthma          Tasmania  2022-09-07\n",
            "...          ...  ...     ...               ...         ...\n",
            "49973    Richard   35  asthma            Sydney  2022-12-08\n",
            "49975    Michael   13  asthma          Canberra  2022-03-15\n",
            "49978      James   32  asthma            Sydney  2022-08-19\n",
            "49986  Juan Luis   29  asthma    SouthAustralia  2022-07-25\n",
            "49996    Michael   10  asthma  WesternAustralia  2022-08-09\n",
            "\n",
            "[10421 rows x 5 columns]\n"
          ]
        }
      ],
      "source": [
        "# Asthma dataframe between age 10 to 35\n",
        "df_asthma_profile = df_profile[(df_profile['age'] >=10) & (df_profile['age'] <= 35) & (df_profile['disease'] == 'asthma')]\n",
        "print(\"People between the ages 10-35 who have Asthma:\", df_asthma_profile.shape)\n",
        "print()\n",
        "print(df_asthma_profile)"
      ]
    },
    {
      "cell_type": "markdown",
      "id": "abbf41a2",
      "metadata": {
        "id": "abbf41a2"
      },
      "source": [
        "### Plot the distribution of values in the age column using a histogram - Random distribution"
      ]
    },
    {
      "cell_type": "code",
      "execution_count": 6,
      "id": "ebc3ca72",
      "metadata": {
        "colab": {
          "base_uri": "https://localhost:8080/",
          "height": 334
        },
        "id": "ebc3ca72",
        "outputId": "c862cf1f-25f8-43fb-d213-1d48164023c4"
      },
      "outputs": [
        {
          "output_type": "stream",
          "name": "stdout",
          "text": [
            "\n",
            "Distribution of values in age of asthma patients\n",
            "\n"
          ]
        },
        {
          "output_type": "execute_result",
          "data": {
            "text/plain": [
              "<matplotlib.axes._subplots.AxesSubplot at 0x7f25f03cf340>"
            ]
          },
          "metadata": {},
          "execution_count": 6
        },
        {
          "output_type": "display_data",
          "data": {
            "text/plain": [
              "<Figure size 432x288 with 1 Axes>"
            ],
            "image/png": "[encoded data removed]"
          },
          "metadata": {
            "needs_background": "light"
          }
        }
      ],
      "source": [
        "# Plot distribution of values in points column using histogram\n",
        "print(\"\\n\" + \"Distribution of values in age of asthma patients\"+ \"\\n\")\n",
        "df_asthma_profile['age'].plot(kind='hist', edgecolor='black')"
      ]
    },
    {
      "cell_type": "markdown",
      "id": "66519d75",
      "metadata": {
        "id": "66519d75"
      },
      "source": [
        "## Let's create triangular distribution"
      ]
    },
    {
      "cell_type": "code",
      "execution_count": 7,
      "id": "048c855f",
      "metadata": {
        "colab": {
          "base_uri": "https://localhost:8080/"
        },
        "id": "048c855f",
        "outputId": "3ce8b9b2-df6c-4dce-fcb9-abefe904a770"
      },
      "outputs": [
        {
          "output_type": "stream",
          "name": "stdout",
          "text": [
            "People who have Asthma: (19883, 5)\n",
            "\n",
            "            name  age disease              city last_tested\n",
            "0        Richard   59  asthma            Darwin  2022-05-21\n",
            "1          Ahmed   30  asthma          Canberra  2022-04-03\n",
            "2      Juan Luis   39  asthma          Canberra  2022-11-15\n",
            "3           John   29  asthma  WesternAustralia  2022-02-20\n",
            "4          Susan   31  asthma          Victoria  2022-02-22\n",
            "...          ...  ...     ...               ...         ...\n",
            "19878      James   32  asthma            Sydney  2022-08-19\n",
            "19879    Richard   39  asthma          Canberra  2022-12-12\n",
            "19880  Juan Luis   29  asthma    SouthAustralia  2022-07-25\n",
            "19881   Jennifer   51  asthma    SouthAustralia  2022-09-12\n",
            "19882    Michael   10  asthma  WesternAustralia  2022-08-09\n",
            "\n",
            "[19883 rows x 5 columns]\n"
          ]
        }
      ],
      "source": [
        "# Generating asthma dataframe from the profile dataframe\n",
        "df_asthma = df_profile[(df_profile['disease'] == 'asthma')]\n",
        "print(\"People who have Asthma:\", df_asthma.shape)\n",
        "print()\n",
        "\n",
        "df_asthma.reset_index(drop=True, inplace=True)\n",
        "print(df_asthma)"
      ]
    },
    {
      "cell_type": "markdown",
      "id": "fba725d0",
      "metadata": {
        "id": "fba725d0"
      },
      "source": [
        "### Applying formula of Triangular Distribution, to make it a triangle, a high count of Asthma patients at a higher age is required."
      ]
    },
    {
      "cell_type": "code",
      "execution_count": 8,
      "id": "7ad3c140",
      "metadata": {
        "colab": {
          "base_uri": "https://localhost:8080/",
          "height": 352
        },
        "id": "7ad3c140",
        "outputId": "7b5e0ba9-5211-487a-aa32-5827e28c702c"
      },
      "outputs": [
        {
          "output_type": "stream",
          "name": "stdout",
          "text": [
            "People who have Asthma: 19883\n",
            "\n",
            "Min Age have Asthma: 10\n",
            "Max age have Asthma: 59\n",
            "\n"
          ]
        },
        {
          "output_type": "display_data",
          "data": {
            "text/plain": [
              "<Figure size 432x288 with 1 Axes>"
            ],
            "image/png": "[encoded data removed]"
          },
          "metadata": {
            "needs_background": "light"
          }
        }
      ],
      "source": [
        "print(\"People who have Asthma:\", df_asthma.shape[0])\n",
        "print()\n",
        "print(\"Min Age have Asthma:\", df_asthma['age'].min())\n",
        "print(\"Max age have Asthma:\", df_asthma['age'].max())\n",
        "print()\n",
        "\n",
        "# Here is the distribution rule for Triangular distribution applied on Age column which was random in earlier part.\n",
        "tri_distribution = np.random.triangular(df_asthma['age'].min(), df_asthma['age'].max(), df_asthma['age'].max(), df_asthma.shape[0])\n",
        "tri_distribution = tri_distribution.astype(int)\n",
        "\n",
        "# import the matplotlib and plot the distribution\n",
        "import matplotlib.pyplot as plt\n",
        "plt.hist(tri_distribution, bins = 10, density = True, edgecolor='black')\n",
        "plt.show()"
      ]
    },
    {
      "cell_type": "markdown",
      "source": [
        "Now we see Min Age have Asthma: 10 and Max age have Asthma: 59, with this the distribution is triangular."
      ],
      "metadata": {
        "id": "-vF26fQJENEK"
      },
      "id": "-vF26fQJENEK"
    }
  ],
  "metadata": {
    "colab": {
      "provenance": [],
      "toc_visible": true
    },
    "kernelspec": {
      "display_name": "Python 3 (ipykernel)",
      "language": "python",
      "name": "python3"
    },
    "language_info": {
      "codemirror_mode": {
        "name": "ipython",
        "version": 3
      },
      "file_extension": ".py",
      "mimetype": "text/x-python",
      "name": "python",
      "nbconvert_exporter": "python",
      "pygments_lexer": "ipython3",
      "version": "3.9.12"
    }
  },
  "nbformat": 4,
  "nbformat_minor": 5
}